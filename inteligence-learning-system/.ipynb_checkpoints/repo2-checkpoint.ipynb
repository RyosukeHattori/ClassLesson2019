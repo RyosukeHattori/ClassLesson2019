{
 "cells": [
  {
   "cell_type": "code",
   "execution_count": 5,
   "metadata": {},
   "outputs": [],
   "source": [
    "import numpy as np\n",
    "from numpy.random import *\n",
    "import matplotlib.pyplot as plt\n",
    "from scipy.stats import norm\n",
    "import math\n",
    "from statistics import mean, median,variance,stdev\n",
    "%matplotlib inline"
   ]
  },
  {
   "cell_type": "code",
   "execution_count": 6,
   "metadata": {},
   "outputs": [
    {
     "name": "stdout",
     "output_type": "stream",
     "text": [
      "2.822264631759009\n",
      "-2.1548670590321852\n",
      "-0.023282546894672317\n",
      "0.9393579520107541\n",
      "0.04977131690791195\n"
     ]
    },
    {
     "ename": "TypeError",
     "evalue": "'normed' is an invalid keyword argument for arange()",
     "output_type": "error",
     "traceback": [
      "\u001b[0;31m---------------------------------------------------------------------------\u001b[0m",
      "\u001b[0;31mTypeError\u001b[0m                                 Traceback (most recent call last)",
      "\u001b[0;32m<ipython-input-6-fc2b618f70b1>\u001b[0m in \u001b[0;36m<module>\u001b[0;34m\u001b[0m\n\u001b[1;32m     15\u001b[0m \u001b[0;31m#R = np.random.normal(50, 10, 1000)\u001b[0m\u001b[0;34m\u001b[0m\u001b[0;34m\u001b[0m\u001b[0;34m\u001b[0m\u001b[0m\n\u001b[1;32m     16\u001b[0m \u001b[0mplt\u001b[0m\u001b[0;34m.\u001b[0m\u001b[0mhist\u001b[0m\u001b[0;34m(\u001b[0m\u001b[0mR\u001b[0m\u001b[0;34m,\u001b[0m \u001b[0mbins\u001b[0m \u001b[0;34m=\u001b[0m \u001b[0;36m40\u001b[0m\u001b[0;34m)\u001b[0m\u001b[0;34m\u001b[0m\u001b[0;34m\u001b[0m\u001b[0m\n\u001b[0;32m---> 17\u001b[0;31m \u001b[0mX\u001b[0m \u001b[0;34m=\u001b[0m \u001b[0mnp\u001b[0m\u001b[0;34m.\u001b[0m\u001b[0marange\u001b[0m\u001b[0;34m(\u001b[0m\u001b[0mn_min\u001b[0m\u001b[0;34m,\u001b[0m\u001b[0mn_max\u001b[0m\u001b[0;34m,\u001b[0m \u001b[0mnum\u001b[0m\u001b[0;34m,\u001b[0m\u001b[0mnormed\u001b[0m \u001b[0;34m=\u001b[0m \u001b[0;32mTrue\u001b[0m\u001b[0;34m)\u001b[0m\u001b[0;34m\u001b[0m\u001b[0;34m\u001b[0m\u001b[0m\n\u001b[0m\u001b[1;32m     18\u001b[0m \u001b[0mY\u001b[0m \u001b[0;34m=\u001b[0m \u001b[0mnorm\u001b[0m\u001b[0;34m.\u001b[0m\u001b[0mpdf\u001b[0m\u001b[0;34m(\u001b[0m\u001b[0mX\u001b[0m\u001b[0;34m,\u001b[0m\u001b[0mmean\u001b[0m\u001b[0;34m,\u001b[0m\u001b[0mvariance\u001b[0m\u001b[0;34m)\u001b[0m\u001b[0;34m\u001b[0m\u001b[0;34m\u001b[0m\u001b[0m\n\u001b[1;32m     19\u001b[0m \u001b[0;34m\u001b[0m\u001b[0m\n",
      "\u001b[0;31mTypeError\u001b[0m: 'normed' is an invalid keyword argument for arange()"
     ]
    },
    {
     "data": {
      "image/png": "[encoded data removed]",
      "text/plain": [
       "<Figure size 432x288 with 1 Axes>"
      ]
     },
     "metadata": {
      "needs_background": "light"
     },
     "output_type": "display_data"
    }
   ],
   "source": [
    "R = randn(100)\n",
    "n_max = R.max()\n",
    "n_min = R.min()\n",
    "num = (n_max - n_min)/len(R)\n",
    "\n",
    "mean = mean(R)\n",
    "variance = variance(R)\n",
    "\n",
    "print(n_max)\n",
    "print(n_min)\n",
    "print(mean)\n",
    "print(variance)\n",
    "print(num)\n",
    "\n",
    "#R = np.random.normal(50, 10, 1000)\n",
    "plt.hist(R, bins = 40)  \n",
    "X = np.arange(n_min,n_max, num,normed = True)\n",
    "Y = norm.pdf(X,mean,variance)\n",
    "\n",
    "plt.plot(X,Y,color='r')\n",
    "plt.show()   "
   ]
  },
  {
   "cell_type": "code",
   "execution_count": 3,
   "metadata": {},
   "outputs": [
    {
     "name": "stdout",
     "output_type": "stream",
     "text": [
      "[-2.8   -2.758 -2.716 -2.674 -2.632 -2.59  -2.548 -2.506 -2.464 -2.422\n",
      " -2.38  -2.338 -2.296 -2.254 -2.212 -2.17  -2.128 -2.086 -2.044 -2.002\n",
      " -1.96  -1.918 -1.876 -1.834 -1.792 -1.75  -1.708 -1.666 -1.624 -1.582\n",
      " -1.54  -1.498 -1.456 -1.414 -1.372 -1.33  -1.288 -1.246 -1.204 -1.162\n",
      " -1.12  -1.078 -1.036 -0.994 -0.952 -0.91  -0.868 -0.826 -0.784 -0.742\n",
      " -0.7   -0.658 -0.616 -0.574 -0.532 -0.49  -0.448 -0.406 -0.364 -0.322\n",
      " -0.28  -0.238 -0.196 -0.154 -0.112 -0.07  -0.028  0.014  0.056  0.098\n",
      "  0.14   0.182  0.224  0.266  0.308  0.35   0.392  0.434  0.476  0.518\n",
      "  0.56   0.602  0.644  0.686  0.728  0.77   0.812  0.854  0.896  0.938\n",
      "  0.98   1.022  1.064  1.106  1.148  1.19   1.232  1.274  1.316  1.358\n",
      "  1.4    1.442  1.484  1.526  1.568  1.61   1.652  1.694]\n"
     ]
    },
    {
     "data": {
      "image/png": "[encoded data removed]",
      "text/plain": [
       "<Figure size 432x288 with 1 Axes>"
      ]
     },
     "metadata": {
      "needs_background": "light"
     },
     "output_type": "display_data"
    }
   ],
   "source": [
    "X = np.arange(-2.8,1.7, 0.042)\n",
    "Y = norm.pdf(X,mean,variance)\n",
    "print(X)\n",
    "plt.plot(X,Y,color='r')\n",
    "plt.show()   "
   ]
  },
  {
   "cell_type": "code",
   "execution_count": null,
   "metadata": {},
   "outputs": [],
   "source": []
  }
 ],
 "metadata": {
  "kernelspec": {
   "display_name": "Python 3",
   "language": "python",
   "name": "python3"
  },
  "language_info": {
   "codemirror_mode": {
    "name": "ipython",
    "version": 3
   },
   "file_extension": ".py",
   "mimetype": "text/x-python",
   "name": "python",
   "nbconvert_exporter": "python",
   "pygments_lexer": "ipython3",
   "version": "3.7.1"
  }
 },
 "nbformat": 4,
 "nbformat_minor": 2
}
