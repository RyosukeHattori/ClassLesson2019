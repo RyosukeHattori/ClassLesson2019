{
 "cells": [
  {
   "cell_type": "code",
   "execution_count": 79,
   "metadata": {},
   "outputs": [],
   "source": [
    "import numpy as np\n",
    "from numpy.random import *\n",
    "import matplotlib.pyplot as plt\n",
    "from scipy.stats import norm\n",
    "import math\n",
    "from statistics import mean, median,variance,stdev\n",
    "%matplotlib inline\n",
    "\n",
    "K = 10"
   ]
  },
  {
   "cell_type": "code",
   "execution_count": 84,
   "metadata": {},
   "outputs": [
    {
     "name": "stdout",
     "output_type": "stream",
     "text": [
      "0.01210256595216213\n",
      "0.010164777739846113\n",
      "0.006756577685834615\n"
     ]
    }
   ],
   "source": [
    "for i in range(1, 4):\n",
    "    \n",
    "    import numpy as np\n",
    "    from numpy.random import *\n",
    "    import matplotlib.pyplot as plt\n",
    "    from scipy.stats import norm\n",
    "    import math\n",
    "    from statistics import mean, median,variance,stdev\n",
    "    %matplotlib inline\n",
    "\n",
    "    K = 10000\n",
    "\n",
    "    R = randn(K)\n",
    "    n_max = R.max()\n",
    "    n_min = R.min()\n",
    "    num = (n_max - n_min)/len(R)\n",
    "\n",
    "    mean = mean(R)\n",
    "    variance = variance(R)\n",
    "\n",
    "    #print(n_max)\n",
    "    #print(n_min)\n",
    "    print(mean)\n",
    "    #print(variance)\n",
    "    #print(num)\n",
    "\n",
    "    #R = np.random.normal(0, 1, 1000)\n",
    "    #plt.hist(R, bins = 40, normed=True)  \n",
    "    #X = np.arange(n_min,n_max, num)\n",
    "    #Y = norm.pdf(X,mean,variance)\n",
    "\n",
    "    #plt.plot(X,Y,color='r')\n",
    "    #plt.show()  \n",
    "\n",
    "    "
   ]
  },
  {
   "cell_type": "code",
   "execution_count": 74,
   "metadata": {},
   "outputs": [
    {
     "data": {
      "image/png": "[encoded data removed]",
      "text/plain": [
       "<Figure size 432x288 with 1 Axes>"
      ]
     },
     "metadata": {
      "needs_background": "light"
     },
     "output_type": "display_data"
    }
   ],
   "source": [
    "X = np.arange(n_min, n_max, num)\n",
    "Y = norm.pdf(X,mean,variance)\n",
    "plt.plot(X,Y,color='r')\n",
    "plt.show()   "
   ]
  },
  {
   "cell_type": "code",
   "execution_count": 75,
   "metadata": {},
   "outputs": [
    {
     "name": "stdout",
     "output_type": "stream",
     "text": [
      "-0.08080414541335908\n"
     ]
    }
   ],
   "source": [
    "print(mean)"
   ]
  },
  {
   "cell_type": "code",
   "execution_count": 88,
   "metadata": {},
   "outputs": [],
   "source": [
    "a =[-0.11, -0.31, 0.53]\n",
    "b =[-0.12, 0.19, 0.12]\n",
    "c =[ 0.0061, 0.012, 0.052]\n",
    "d =[0.012, 0.010, 0.0061]"
   ]
  },
  {
   "cell_type": "code",
   "execution_count": 95,
   "metadata": {},
   "outputs": [
    {
     "name": "stdout",
     "output_type": "stream",
     "text": [
      "0.036666666666666674\n",
      "0.0006236033333333332\n"
     ]
    }
   ],
   "source": [
    "from statistics import mean, median,variance,stdev\n",
    "mean = mean(a)\n",
    "variance = variance(c)\n",
    "print(mean)\n",
    "print(variance)"
   ]
  },
  {
   "cell_type": "code",
   "execution_count": null,
   "metadata": {},
   "outputs": [],
   "source": []
  }
 ],
 "metadata": {
  "kernelspec": {
   "display_name": "Python 3",
   "language": "python",
   "name": "python3"
  },
  "language_info": {
   "codemirror_mode": {
    "name": "ipython",
    "version": 3
   },
   "file_extension": ".py",
   "mimetype": "text/x-python",
   "name": "python",
   "nbconvert_exporter": "python",
   "pygments_lexer": "ipython3",
   "version": "3.7.1"
  }
 },
 "nbformat": 4,
 "nbformat_minor": 2
}
